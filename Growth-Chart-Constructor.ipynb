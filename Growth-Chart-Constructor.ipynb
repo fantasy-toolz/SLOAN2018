{
 "cells": [
  {
   "cell_type": "markdown",
   "metadata": {},
   "source": [
    "# Growth Chart Constructor\n",
    "\n",
    "### MSP 10.12.2017\n",
    "\n",
    "Goals:\n",
    "1. Build the stat accumulation as a function of time"
   ]
  },
  {
   "cell_type": "code",
   "execution_count": 6,
   "metadata": {
    "collapsed": false
   },
   "outputs": [],
   "source": [
    "from __future__ import print_function"
   ]
  },
  {
   "cell_type": "code",
   "execution_count": 7,
   "metadata": {
    "collapsed": false,
    "scrolled": false
   },
   "outputs": [
    {
     "data": {
      "text/html": [
       "<script>code_show=true; function code_toggle() { if (code_show){ $('div.input').hide();} else { $('div.input').show(); } code_show = !code_show} $( document ).ready(code_toggle);</script><form action=\"javascript:code_toggle()\"><input type=\"submit\" value=\"Click here to toggle on/off the raw code.\"></form>"
      ],
      "text/plain": [
       "<IPython.core.display.HTML object>"
      ]
     },
     "execution_count": 7,
     "metadata": {},
     "output_type": "execute_result"
    }
   ],
   "source": [
    "from IPython.display import HTML\n",
    "HTML('''<script>code_show=true; function code_toggle() { if (code_show){ $('div.input').hide();} else { $('div.input').show(); } code_show = !code_show} $( document ).ready(code_toggle);</script><form action=\"javascript:code_toggle()\"><input type=\"submit\" value=\"Click here to toggle on/off the raw code.\"></form>''')"
   ]
  },
  {
   "cell_type": "code",
   "execution_count": 12,
   "metadata": {
    "collapsed": false,
    "scrolled": false
   },
   "outputs": [
    {
     "name": "stdout",
     "output_type": "stream",
     "text": [
      "Go Time\n"
     ]
    }
   ],
   "source": [
    "# boilerplate imports\n",
    "\n",
    "import numpy as np\n",
    "import matplotlib.pyplot as plt\n",
    "import matplotlib.cm as cm\n",
    "%matplotlib inline\n",
    "\n",
    "import time\n",
    "\n",
    "import matplotlib as mpl\n",
    "\n",
    "import datetime \n",
    "\n",
    "print(\"Go Time\")\n",
    "\n",
    "\n",
    "\n"
   ]
  },
  {
   "cell_type": "code",
   "execution_count": 13,
   "metadata": {
    "collapsed": false,
    "scrolled": false
   },
   "outputs": [
    {
     "name": "stdout",
     "output_type": "stream",
     "text": [
      "['angels', 'whitesox', 'yankees']\n"
     ]
    }
   ],
   "source": [
    "# imports for scraping\n",
    "\n",
    "from bs4 import BeautifulSoup\n",
    "import requests\n",
    "\n",
    "teams = ['angels',#'astros','athletics','bluejays','braves',\\\n",
    "        #'brewers','cardinals','cubs','diamondbacks','dodgers',\\\n",
    "        #'giants','indians','mariners','marlins','mets','nationals',\\\n",
    "        #'orioles','padres','phillies','pirates','rangers',\\\n",
    "        #'rays','reds','redsox','rockies','royals','tigers','twins',\\\n",
    "        'whitesox','yankees']\n",
    "print(teams)\n"
   ]
  },
  {
   "cell_type": "markdown",
   "metadata": {},
   "source": [
    "#### Compile Hitters\n",
    "\n",
    "This cell only needs to be run in the event that player ID numbers change, or new players are added."
   ]
  },
  {
   "cell_type": "code",
   "execution_count": 17,
   "metadata": {
    "collapsed": false
   },
   "outputs": [
    {
     "name": "stdout",
     "output_type": "stream",
     "text": [
      "angels\n"
     ]
    },
    {
     "name": "stderr",
     "output_type": "stream",
     "text": [
      "C:\\Anaconda\\lib\\site-packages\\bs4\\__init__.py:166: UserWarning: No parser was explicitly specified, so I'm using the best available HTML parser for this system (\"lxml\"). This usually isn't a problem, but if you run this code on another system, or in a different virtual environment, it may use a different parser and behave differently.\n",
      "\n",
      "To get rid of this warning, change this:\n",
      "\n",
      " BeautifulSoup([your markup])\n",
      "\n",
      "to this:\n",
      "\n",
      " BeautifulSoup([your markup], \"lxml\")\n",
      "\n",
      "  markup_type=markup_type))\n"
     ]
    },
    {
     "name": "stdout",
     "output_type": "stream",
     "text": [
      "whitesox\n"
     ]
    },
    {
     "ename": "ChunkedEncodingError",
     "evalue": "(\"Connection broken: error(10060, 'A connection attempt failed because the connected party did not properly respond after a period of time, or established connection failed because connected host has failed to respond')\", error(10060, 'A connection attempt failed because the connected party did not properly respond after a period of time, or established connection failed because connected host has failed to respond'))",
     "output_type": "error",
     "traceback": [
      "\u001b[1;31m---------------------------------------------------------------------------\u001b[0m",
      "\u001b[1;31mChunkedEncodingError\u001b[0m                      Traceback (most recent call last)",
      "\u001b[1;32m<ipython-input-17-c6877de9de7b>\u001b[0m in \u001b[0;36m<module>\u001b[1;34m()\u001b[0m\n\u001b[0;32m     11\u001b[0m     \u001b[0mget_url\u001b[0m \u001b[1;33m=\u001b[0m \u001b[1;34m'http://www.fangraphs.com/teams/'\u001b[0m\u001b[1;33m+\u001b[0m\u001b[0mteam\u001b[0m\u001b[1;31m#angels'\u001b[0m\u001b[1;33m\u001b[0m\u001b[0m\n\u001b[0;32m     12\u001b[0m \u001b[1;33m\u001b[0m\u001b[0m\n\u001b[1;32m---> 13\u001b[1;33m     \u001b[0mr\u001b[0m  \u001b[1;33m=\u001b[0m \u001b[0mrequests\u001b[0m\u001b[1;33m.\u001b[0m\u001b[0mget\u001b[0m\u001b[1;33m(\u001b[0m\u001b[0mget_url\u001b[0m\u001b[1;33m)\u001b[0m\u001b[1;33m\u001b[0m\u001b[0m\n\u001b[0m\u001b[0;32m     14\u001b[0m \u001b[1;33m\u001b[0m\u001b[0m\n\u001b[0;32m     15\u001b[0m     \u001b[0mdata\u001b[0m \u001b[1;33m=\u001b[0m \u001b[0mr\u001b[0m\u001b[1;33m.\u001b[0m\u001b[0mtext\u001b[0m\u001b[1;33m\u001b[0m\u001b[0m\n",
      "\u001b[1;32mC:\\Anaconda\\lib\\site-packages\\requests\\api.pyc\u001b[0m in \u001b[0;36mget\u001b[1;34m(url, params, **kwargs)\u001b[0m\n\u001b[0;32m     65\u001b[0m \u001b[1;33m\u001b[0m\u001b[0m\n\u001b[0;32m     66\u001b[0m     \u001b[0mkwargs\u001b[0m\u001b[1;33m.\u001b[0m\u001b[0msetdefault\u001b[0m\u001b[1;33m(\u001b[0m\u001b[1;34m'allow_redirects'\u001b[0m\u001b[1;33m,\u001b[0m \u001b[0mTrue\u001b[0m\u001b[1;33m)\u001b[0m\u001b[1;33m\u001b[0m\u001b[0m\n\u001b[1;32m---> 67\u001b[1;33m     \u001b[1;32mreturn\u001b[0m \u001b[0mrequest\u001b[0m\u001b[1;33m(\u001b[0m\u001b[1;34m'get'\u001b[0m\u001b[1;33m,\u001b[0m \u001b[0murl\u001b[0m\u001b[1;33m,\u001b[0m \u001b[0mparams\u001b[0m\u001b[1;33m=\u001b[0m\u001b[0mparams\u001b[0m\u001b[1;33m,\u001b[0m \u001b[1;33m**\u001b[0m\u001b[0mkwargs\u001b[0m\u001b[1;33m)\u001b[0m\u001b[1;33m\u001b[0m\u001b[0m\n\u001b[0m\u001b[0;32m     68\u001b[0m \u001b[1;33m\u001b[0m\u001b[0m\n\u001b[0;32m     69\u001b[0m \u001b[1;33m\u001b[0m\u001b[0m\n",
      "\u001b[1;32mC:\\Anaconda\\lib\\site-packages\\requests\\api.pyc\u001b[0m in \u001b[0;36mrequest\u001b[1;34m(method, url, **kwargs)\u001b[0m\n\u001b[0;32m     51\u001b[0m     \u001b[1;31m# cases, and look like a memory leak in others.\u001b[0m\u001b[1;33m\u001b[0m\u001b[1;33m\u001b[0m\u001b[0m\n\u001b[0;32m     52\u001b[0m     \u001b[1;32mwith\u001b[0m \u001b[0msessions\u001b[0m\u001b[1;33m.\u001b[0m\u001b[0mSession\u001b[0m\u001b[1;33m(\u001b[0m\u001b[1;33m)\u001b[0m \u001b[1;32mas\u001b[0m \u001b[0msession\u001b[0m\u001b[1;33m:\u001b[0m\u001b[1;33m\u001b[0m\u001b[0m\n\u001b[1;32m---> 53\u001b[1;33m         \u001b[1;32mreturn\u001b[0m \u001b[0msession\u001b[0m\u001b[1;33m.\u001b[0m\u001b[0mrequest\u001b[0m\u001b[1;33m(\u001b[0m\u001b[0mmethod\u001b[0m\u001b[1;33m=\u001b[0m\u001b[0mmethod\u001b[0m\u001b[1;33m,\u001b[0m \u001b[0murl\u001b[0m\u001b[1;33m=\u001b[0m\u001b[0murl\u001b[0m\u001b[1;33m,\u001b[0m \u001b[1;33m**\u001b[0m\u001b[0mkwargs\u001b[0m\u001b[1;33m)\u001b[0m\u001b[1;33m\u001b[0m\u001b[0m\n\u001b[0m\u001b[0;32m     54\u001b[0m \u001b[1;33m\u001b[0m\u001b[0m\n\u001b[0;32m     55\u001b[0m \u001b[1;33m\u001b[0m\u001b[0m\n",
      "\u001b[1;32mC:\\Anaconda\\lib\\site-packages\\requests\\sessions.pyc\u001b[0m in \u001b[0;36mrequest\u001b[1;34m(self, method, url, params, data, headers, cookies, files, auth, timeout, allow_redirects, proxies, hooks, stream, verify, cert, json)\u001b[0m\n\u001b[0;32m    466\u001b[0m         }\n\u001b[0;32m    467\u001b[0m         \u001b[0msend_kwargs\u001b[0m\u001b[1;33m.\u001b[0m\u001b[0mupdate\u001b[0m\u001b[1;33m(\u001b[0m\u001b[0msettings\u001b[0m\u001b[1;33m)\u001b[0m\u001b[1;33m\u001b[0m\u001b[0m\n\u001b[1;32m--> 468\u001b[1;33m         \u001b[0mresp\u001b[0m \u001b[1;33m=\u001b[0m \u001b[0mself\u001b[0m\u001b[1;33m.\u001b[0m\u001b[0msend\u001b[0m\u001b[1;33m(\u001b[0m\u001b[0mprep\u001b[0m\u001b[1;33m,\u001b[0m \u001b[1;33m**\u001b[0m\u001b[0msend_kwargs\u001b[0m\u001b[1;33m)\u001b[0m\u001b[1;33m\u001b[0m\u001b[0m\n\u001b[0m\u001b[0;32m    469\u001b[0m \u001b[1;33m\u001b[0m\u001b[0m\n\u001b[0;32m    470\u001b[0m         \u001b[1;32mreturn\u001b[0m \u001b[0mresp\u001b[0m\u001b[1;33m\u001b[0m\u001b[0m\n",
      "\u001b[1;32mC:\\Anaconda\\lib\\site-packages\\requests\\sessions.pyc\u001b[0m in \u001b[0;36msend\u001b[1;34m(self, request, **kwargs)\u001b[0m\n\u001b[0;32m    606\u001b[0m \u001b[1;33m\u001b[0m\u001b[0m\n\u001b[0;32m    607\u001b[0m         \u001b[1;32mif\u001b[0m \u001b[1;32mnot\u001b[0m \u001b[0mstream\u001b[0m\u001b[1;33m:\u001b[0m\u001b[1;33m\u001b[0m\u001b[0m\n\u001b[1;32m--> 608\u001b[1;33m             \u001b[0mr\u001b[0m\u001b[1;33m.\u001b[0m\u001b[0mcontent\u001b[0m\u001b[1;33m\u001b[0m\u001b[0m\n\u001b[0m\u001b[0;32m    609\u001b[0m \u001b[1;33m\u001b[0m\u001b[0m\n\u001b[0;32m    610\u001b[0m         \u001b[1;32mreturn\u001b[0m \u001b[0mr\u001b[0m\u001b[1;33m\u001b[0m\u001b[0m\n",
      "\u001b[1;32mC:\\Anaconda\\lib\\site-packages\\requests\\models.pyc\u001b[0m in \u001b[0;36mcontent\u001b[1;34m(self)\u001b[0m\n\u001b[0;32m    735\u001b[0m                     \u001b[0mself\u001b[0m\u001b[1;33m.\u001b[0m\u001b[0m_content\u001b[0m \u001b[1;33m=\u001b[0m \u001b[0mNone\u001b[0m\u001b[1;33m\u001b[0m\u001b[0m\n\u001b[0;32m    736\u001b[0m                 \u001b[1;32melse\u001b[0m\u001b[1;33m:\u001b[0m\u001b[1;33m\u001b[0m\u001b[0m\n\u001b[1;32m--> 737\u001b[1;33m                     \u001b[0mself\u001b[0m\u001b[1;33m.\u001b[0m\u001b[0m_content\u001b[0m \u001b[1;33m=\u001b[0m \u001b[0mbytes\u001b[0m\u001b[1;33m(\u001b[0m\u001b[1;33m)\u001b[0m\u001b[1;33m.\u001b[0m\u001b[0mjoin\u001b[0m\u001b[1;33m(\u001b[0m\u001b[0mself\u001b[0m\u001b[1;33m.\u001b[0m\u001b[0miter_content\u001b[0m\u001b[1;33m(\u001b[0m\u001b[0mCONTENT_CHUNK_SIZE\u001b[0m\u001b[1;33m)\u001b[0m\u001b[1;33m)\u001b[0m \u001b[1;32mor\u001b[0m \u001b[0mbytes\u001b[0m\u001b[1;33m(\u001b[0m\u001b[1;33m)\u001b[0m\u001b[1;33m\u001b[0m\u001b[0m\n\u001b[0m\u001b[0;32m    738\u001b[0m \u001b[1;33m\u001b[0m\u001b[0m\n\u001b[0;32m    739\u001b[0m             \u001b[1;32mexcept\u001b[0m \u001b[0mAttributeError\u001b[0m\u001b[1;33m:\u001b[0m\u001b[1;33m\u001b[0m\u001b[0m\n",
      "\u001b[1;32mC:\\Anaconda\\lib\\site-packages\\requests\\models.pyc\u001b[0m in \u001b[0;36mgenerate\u001b[1;34m()\u001b[0m\n\u001b[0;32m    661\u001b[0m                         \u001b[1;32myield\u001b[0m \u001b[0mchunk\u001b[0m\u001b[1;33m\u001b[0m\u001b[0m\n\u001b[0;32m    662\u001b[0m                 \u001b[1;32mexcept\u001b[0m \u001b[0mProtocolError\u001b[0m \u001b[1;32mas\u001b[0m \u001b[0me\u001b[0m\u001b[1;33m:\u001b[0m\u001b[1;33m\u001b[0m\u001b[0m\n\u001b[1;32m--> 663\u001b[1;33m                     \u001b[1;32mraise\u001b[0m \u001b[0mChunkedEncodingError\u001b[0m\u001b[1;33m(\u001b[0m\u001b[0me\u001b[0m\u001b[1;33m)\u001b[0m\u001b[1;33m\u001b[0m\u001b[0m\n\u001b[0m\u001b[0;32m    664\u001b[0m                 \u001b[1;32mexcept\u001b[0m \u001b[0mDecodeError\u001b[0m \u001b[1;32mas\u001b[0m \u001b[0me\u001b[0m\u001b[1;33m:\u001b[0m\u001b[1;33m\u001b[0m\u001b[0m\n\u001b[0;32m    665\u001b[0m                     \u001b[1;32mraise\u001b[0m \u001b[0mContentDecodingError\u001b[0m\u001b[1;33m(\u001b[0m\u001b[0me\u001b[0m\u001b[1;33m)\u001b[0m\u001b[1;33m\u001b[0m\u001b[0m\n",
      "\u001b[1;31mChunkedEncodingError\u001b[0m: (\"Connection broken: error(10060, 'A connection attempt failed because the connected party did not properly respond after a period of time, or established connection failed because connected host has failed to respond')\", error(10060, 'A connection attempt failed because the connected party did not properly respond after a period of time, or established connection failed because connected host has failed to respond'))"
     ]
    }
   ],
   "source": [
    "\n",
    "# make hitter dictionary\n",
    "\n",
    "HDict = {}\n",
    "\n",
    "\n",
    "\n",
    "for team in teams:\n",
    "    print(team)\n",
    "    \n",
    "    get_url = 'http://www.fangraphs.com/teams/'+team#angels'\n",
    "\n",
    "    r  = requests.get(get_url)\n",
    "\n",
    "    data = r.text\n",
    "\n",
    "    soup = BeautifulSoup(data)\n",
    "\n",
    "    tables = soup.findAll('table')\n",
    "\n",
    "\n",
    "    for row in tables[5].find_all(\"tr\")[1:]: \n",
    "    \n",
    "        sav = [td.find('a') for td in row.find_all(\"td\")][0]\n",
    "    \n",
    "        try:\n",
    "            need_url = sav.get('href')\n",
    "            \n",
    "            sav2 = [td.get_text() for td in row.find_all(\"td\")]\n",
    "        \n",
    "            # Apply a PA cut?\n",
    "            if float(sav2[3]) > 0.:\n",
    "                HDict[sav.text] = need_url[(need_url).find('playerid')+9:(need_url).find('&'), team]\n",
    "        \n",
    "        except:\n",
    "            pass\n",
    "    \n",
    "f = open('data/batterdict.dat','w')\n",
    "\n",
    "for entry in HDict.keys():\n",
    "    try:\n",
    "        print (f,entry,'|',HDict[entry])\n",
    "    except:\n",
    "        print (entry,'|',HDict[entry])\n",
    "    \n",
    "\n",
    "f.close()"
   ]
  },
  {
   "cell_type": "raw",
   "metadata": {
    "collapsed": false,
    "scrolled": false
   },
   "source": [
    "\n",
    "#\n",
    "# re-open hitter list\n",
    "# \n",
    "\n",
    "HDict = {}\n",
    "\n",
    "f = open('data/batterdict.dat')\n",
    "\n",
    "for line in f:\n",
    "    #print line\n",
    "    try:\n",
    "        HDict[(line.split('|')[0]).strip()] = line.split('|')[1]\n",
    "    except:\n",
    "        pass\n",
    "    \n",
    "    \n",
    "print('Found {} hitters by scraping teams.'.format(len(HDict.keys())))"
   ]
  },
  {
   "cell_type": "markdown",
   "metadata": {},
   "source": [
    "### Grab Game Logs\n",
    "\n",
    "Construct the statistical accumulations:\n",
    "1. Build out new dictionary format for data"
   ]
  },
  {
   "cell_type": "raw",
   "metadata": {
    "collapsed": false,
    "scrolled": true
   },
   "source": [
    "#\n",
    "# for an individual player\n",
    "#'\n",
    "\n",
    "itable = [u'Date', u'Team', u'Opp', u'BO', u'Pos', u'PA', u'H',\\\n",
    "          u'2B', u'3B', u'HR', u'R', u'RBI', u'SB', u'CS',\\\n",
    "          u'BB%', u'K%', u'ISO', u'BABIP', u'AVG', u'OBP', u'SLG', u'wOBA', u'wRC+']\n",
    "#             0         1        2    3     4      5     6  \\\n",
    "#            7      8   9       10    11      12     13  \\\n",
    "#            14    15    16    17          18       19      20     21      22\n",
    "\n",
    "\n",
    "\n",
    "\n",
    "#plist = ['Joey Votto','Albert Pujols','Mike Trout','Buster Posey','Byron Buxton']\n",
    "\n",
    "plist = HDict.keys()\n",
    "\n",
    "\n",
    "zero_day = 75\n",
    "max_day = 300\n",
    "\n",
    "def obtain_players(plist):\n",
    "    \n",
    "    # set up dictionary\n",
    "    DayStats = {}\n",
    "    DayStats['PA'] = {}\n",
    "    DayStats['R'] = {}\n",
    "    DayStats['RBI'] = {}\n",
    "    DayStats['H'] = {}\n",
    "    DayStats['SB'] = {}\n",
    "    DayStats['BB'] = {}\n",
    "    DayStats['SO'] = {}\n",
    "    DayStats['HR'] = {}\n",
    "    \n",
    "\n",
    "\n",
    "    pnum = 0\n",
    "\n",
    "    for player in plist:\n",
    "        \n",
    "        dflag = 0\n",
    "        \n",
    "        t1 = time.time()\n",
    "        \n",
    "        if (pnum % 25) == 0:\n",
    "            t0 = time.time()\n",
    "        \n",
    "        DayStats['PA'][player] = np.zeros(max_day-zero_day,dtype=int)\n",
    "        DayStats['R'][player] = np.zeros(max_day-zero_day,dtype=int)\n",
    "        DayStats['RBI'][player] = np.zeros(max_day-zero_day,dtype=int)\n",
    "        DayStats['H'][player] = np.zeros(max_day-zero_day,dtype=int)\n",
    "        DayStats['SB'][player] = np.zeros(max_day-zero_day,dtype=int)\n",
    "        DayStats['BB'][player] = np.zeros(max_day-zero_day,dtype=int)\n",
    "        DayStats['SO'][player] = np.zeros(max_day-zero_day,dtype=int)\n",
    "        DayStats['HR'][player] = np.zeros(max_day-zero_day,dtype=int)\n",
    "        \n",
    "        get_url = 'http://www.fangraphs.com/statsd.aspx?playerid='+str(HDict[player].strip())\n",
    "        r  = requests.get(get_url); data = r.text; soup = BeautifulSoup(data); tables = soup.findAll('table')\n",
    "\n",
    "        for indx,table in enumerate(tables):\n",
    "\n",
    "            #print indx,[th.get_text() for th in table.find(\"tr\").find_all(\"th\")]\n",
    "\n",
    "            if [th.get_text() for th in table.find(\"tr\").find_all(\"th\")] == itable:\n",
    "\n",
    "                #print get_url\n",
    "                if (pnum % 1) == 0:\n",
    "                    print(pnum,player)\n",
    "\n",
    "                pnum += 1\n",
    "                dflag = 1\n",
    "\n",
    "                for row in table.find_all(\"tr\")[1:]:\n",
    "                    \n",
    "                    if (row in table.find_all(\"tr\", class_=\"grid_postseason\")) |\\\n",
    "                        (row in table.find_all(\"tr\", class_=\"grid_multi\")):\n",
    "                            #print 'Multi and/or Postseason:',sav[0]\n",
    "                            continue\n",
    "\n",
    "                    sav = [td.get_text() for td in row.find_all(\"td\")]\n",
    "                    \n",
    "                    if ('Date' not in sav[0]) & ('Total' not in sav[0]) :\n",
    "                                            \n",
    "                        daynum = int(datetime.datetime(int(sav[0].split('-')[0]),int(sav[0].split('-')[1]), int(sav[0].split('-')[2]), 0, 0, 0).timetuple().tm_yday) - zero_day\n",
    "\n",
    "                        DayStats['PA'][player][daynum] = int(sav[5])\n",
    "                        DayStats['R'][player][daynum] = int(sav[10])\n",
    "                        DayStats['RBI'][player][daynum] = int(sav[11])\n",
    "                        DayStats['H'][player][daynum] = int(sav[6])\n",
    "                        DayStats['SO'][player][daynum] = int(np.round(0.01*float(sav[15].strip('%'))*float(sav[5]),0))\n",
    "                        DayStats['BB'][player][daynum] = int(np.round(0.01*float(sav[14].strip('%'))*float(sav[5]),0))\n",
    "                        DayStats['SB'][player][daynum] = int(sav[12])\n",
    "                        DayStats['HR'][player][daynum] = int(sav[9])\n",
    "\n",
    "\n",
    "        if dflag == 0:\n",
    "            get_url = 'http://www.fangraphs.com/statsd.aspx?playerid='+str(HDict[player].strip())+'&position=PB'\n",
    "            r  = requests.get(get_url); data = r.text; soup = BeautifulSoup(data); tables = soup.findAll('table')\n",
    "\n",
    "            for indx,table in enumerate(tables):\n",
    "\n",
    "                #print indx,[th.get_text() for th in table.find(\"tr\").find_all(\"th\")]\n",
    "\n",
    "                if [th.get_text() for th in table.find(\"tr\").find_all(\"th\")] == itable:\n",
    "\n",
    "                    print('Successfully read pitcher',player)\n",
    "\n",
    "                    #print get_url\n",
    "                    if (pnum % 1) == 0:\n",
    "                        print(pnum,player)\n",
    "\n",
    "                    pnum += 1\n",
    "\n",
    "                    for row in table.find_all(\"tr\")[1:]:\n",
    "\n",
    "                        if (row in table.find_all(\"tr\", class_=\"grid_postseason\")) |\\\n",
    "                            (row in table.find_all(\"tr\", class_=\"grid_multi\")):\n",
    "                                #print 'Multi and/or Postseason:',sav[0]\n",
    "                                continue\n",
    "\n",
    "                        sav = [td.get_text() for td in row.find_all(\"td\")]\n",
    "\n",
    "                        if ('Date' not in sav[0]) & ('Total' not in sav[0]) :\n",
    "\n",
    "                            daynum = int(datetime.datetime(int(sav[0].split('-')[0]),int(sav[0].split('-')[1]), int(sav[0].split('-')[2]), 0, 0, 0).timetuple().tm_yday) - zero_day\n",
    "\n",
    "                            DayStats['PA'][player][daynum] = int(sav[5])\n",
    "                            DayStats['R'][player][daynum] = int(sav[10])\n",
    "                            DayStats['RBI'][player][daynum] = int(sav[11])\n",
    "                            DayStats['H'][player][daynum] = int(sav[6])\n",
    "                            DayStats['SO'][player][daynum] = int(np.round(0.01*float(sav[15].strip('%'))*float(sav[5]),0))\n",
    "                            DayStats['BB'][player][daynum] = int(np.round(0.01*float(sav[14].strip('%'))*float(sav[5]),0))\n",
    "                            DayStats['SB'][player][daynum] = int(sav[12])\n",
    "                            DayStats['HR'][player][daynum] = int(sav[9])\n",
    "\n",
    "\n",
    "        if (pnum % 25) == 0:\n",
    "            print('Executed in {0:4.5f} seconds\\n'.format(time.time()-t0))\n",
    "            \n",
    "        #print('{0:4.5f} s'.format(time.time()-t1),end='')\n",
    "\n",
    "    return DayStats\n",
    "\n",
    "\n",
    "DStats = obtain_players(plist)\n",
    "\n"
   ]
  },
  {
   "cell_type": "raw",
   "metadata": {},
   "source": [
    "\n",
    "f = open('data/gamelogs.dat','w')\n",
    "\n",
    "for statkey in DStats.keys():\n",
    "        \n",
    "    for player in DStats[statkey].keys():\n",
    "        \n",
    "        print(statkey,';',player,';',end='',file=f)\n",
    "        \n",
    "        for daynum in range(0,len(DStats[statkey][player])):\n",
    "            \n",
    "            print(DStats[statkey][player][daynum],';',end='',file=f)\n",
    "            \n",
    "        print('',file=f)\n",
    "    \n",
    "\n",
    "f.close()\n",
    "\n"
   ]
  },
  {
   "cell_type": "code",
   "execution_count": 10,
   "metadata": {
    "collapsed": false
   },
   "outputs": [
    {
     "ename": "NameError",
     "evalue": "name 'max_day' is not defined",
     "output_type": "error",
     "traceback": [
      "\u001b[1;31m---------------------------------------------------------------------------\u001b[0m",
      "\u001b[1;31mNameError\u001b[0m                                 Traceback (most recent call last)",
      "\u001b[1;32m<ipython-input-10-9cfe4916eb4f>\u001b[0m in \u001b[0;36m<module>\u001b[1;34m()\u001b[0m\n\u001b[0;32m     13\u001b[0m \u001b[1;33m\u001b[0m\u001b[0m\n\u001b[0;32m     14\u001b[0m     \u001b[1;32mif\u001b[0m \u001b[0mq\u001b[0m\u001b[1;33m[\u001b[0m\u001b[1;36m1\u001b[0m\u001b[1;33m]\u001b[0m \u001b[1;32mnot\u001b[0m \u001b[1;32min\u001b[0m \u001b[0mDDStats\u001b[0m\u001b[1;33m[\u001b[0m\u001b[0mq\u001b[0m\u001b[1;33m[\u001b[0m\u001b[1;36m0\u001b[0m\u001b[1;33m]\u001b[0m\u001b[1;33m]\u001b[0m\u001b[1;33m.\u001b[0m\u001b[0mkeys\u001b[0m\u001b[1;33m(\u001b[0m\u001b[1;33m)\u001b[0m\u001b[1;33m:\u001b[0m\u001b[1;33m\u001b[0m\u001b[0m\n\u001b[1;32m---> 15\u001b[1;33m         \u001b[0mDDStats\u001b[0m\u001b[1;33m[\u001b[0m\u001b[0mq\u001b[0m\u001b[1;33m[\u001b[0m\u001b[1;36m0\u001b[0m\u001b[1;33m]\u001b[0m\u001b[1;33m]\u001b[0m\u001b[1;33m[\u001b[0m\u001b[0mq\u001b[0m\u001b[1;33m[\u001b[0m\u001b[1;36m1\u001b[0m\u001b[1;33m]\u001b[0m\u001b[1;33m]\u001b[0m \u001b[1;33m=\u001b[0m \u001b[0mnp\u001b[0m\u001b[1;33m.\u001b[0m\u001b[0mzeros\u001b[0m\u001b[1;33m(\u001b[0m\u001b[0mmax_day\u001b[0m\u001b[1;33m-\u001b[0m\u001b[0mzero_day\u001b[0m\u001b[1;33m)\u001b[0m\u001b[1;33m\u001b[0m\u001b[0m\n\u001b[0m\u001b[0;32m     16\u001b[0m \u001b[1;33m\u001b[0m\u001b[0m\n\u001b[0;32m     17\u001b[0m     \u001b[1;32mfor\u001b[0m \u001b[0mindx\u001b[0m \u001b[1;32min\u001b[0m \u001b[0mrange\u001b[0m\u001b[1;33m(\u001b[0m\u001b[1;36m0\u001b[0m\u001b[1;33m,\u001b[0m\u001b[0mlen\u001b[0m\u001b[1;33m(\u001b[0m\u001b[0mq\u001b[0m\u001b[1;33m)\u001b[0m\u001b[1;33m-\u001b[0m\u001b[1;36m3\u001b[0m\u001b[1;33m)\u001b[0m\u001b[1;33m:\u001b[0m\u001b[1;33m\u001b[0m\u001b[0m\n",
      "\u001b[1;31mNameError\u001b[0m: name 'max_day' is not defined"
     ]
    }
   ],
   "source": [
    "\n",
    "f = open('data/gamelogs.dat')\n",
    "\n",
    "\n",
    "\n",
    "DDStats = {}\n",
    "\n",
    "for line in f:\n",
    "    q = [d.strip(\" \") for d in line.split(';')]\n",
    "    \n",
    "    if q[0] not in DDStats.keys():\n",
    "        DDStats[q[0]] = {}\n",
    "        \n",
    "    if q[1] not in DDStats[q[0]].keys():\n",
    "        DDStats[q[0]][q[1]] = np.zeros(max_day-zero_day)\n",
    "        \n",
    "    for indx in range(0,len(q)-3):\n",
    "        DDStats[q[0]][q[1]][indx] = float(q[indx+2])\n",
    "    \n",
    "\n",
    "\n",
    "f.close()\n",
    "\n",
    "\n",
    "print(DDStats.keys())"
   ]
  },
  {
   "cell_type": "code",
   "execution_count": null,
   "metadata": {
    "collapsed": false
   },
   "outputs": [],
   "source": [
    "PAlist = np.zeros([len(np.array(DDStats['PA'].keys())),max_day-zero_day])\n",
    "\n",
    "\n",
    "stat = 'RBI'\n",
    "print(len(np.array(DDStats[stat].keys())) )\n",
    "\n",
    "for indx,player in enumerate(DDStats[stat].keys()):\n",
    "    PAlist[indx] = np.cumsum(DDStats[stat][player])\n",
    "\n",
    "\n",
    "fig = plt.figure()\n",
    "ax = fig.add_axes([0.18,0.22,0.6,0.7])\n",
    "ax2 = fig.add_axes([0.81,0.22,0.02,0.7])\n",
    "\n",
    "    \n",
    "    \n",
    "for perc in range(100,0,-10):\n",
    "    ax.plot(np.percentile(PAlist,perc,axis=0),color=cm.gnuplot(float(perc/100.),1.))\n",
    "    \n",
    "\n",
    "ax.plot(np.cumsum(DDStats[stat]['Mike Trout']),color='black')\n",
    "\n",
    "    \n",
    "ax.set_ylabel('RBIs',size=18)\n",
    "ax.set_xlabel('Gameday Number',size=18)\n",
    "    \n",
    "cmap = mpl.cm.gnuplot; norm = mpl.colors.Normalize(vmin=0, vmax=100)\n",
    "cb1 = mpl.colorbar.ColorbarBase(ax2, cmap=cmap,norm=norm)\n",
    "cb1.set_label('Percentile',size=18)\n",
    "\n",
    "\n"
   ]
  },
  {
   "cell_type": "code",
   "execution_count": null,
   "metadata": {
    "collapsed": true,
    "scrolled": false
   },
   "outputs": [],
   "source": []
  }
 ],
 "metadata": {
  "anaconda-cloud": {},
  "kernelspec": {
   "display_name": "Python 2",
   "language": "python",
   "name": "python2"
  },
  "language_info": {
   "codemirror_mode": {
    "name": "ipython",
    "version": 2
   },
   "file_extension": ".py",
   "mimetype": "text/x-python",
   "name": "python",
   "nbconvert_exporter": "python",
   "pygments_lexer": "ipython2",
   "version": "2.7.11"
  }
 },
 "nbformat": 4,
 "nbformat_minor": 1
}
