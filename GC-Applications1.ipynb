{
 "cells": [
  {
   "cell_type": "markdown",
   "metadata": {},
   "source": [
    "# Example Growth Charts\n",
    "\n",
    "Work to show the possible examples."
   ]
  },
  {
   "cell_type": "code",
   "execution_count": null,
   "metadata": {
    "collapsed": true
   },
   "outputs": [],
   "source": [
    "from __future__ import print_function"
   ]
  },
  {
   "cell_type": "code",
   "execution_count": null,
   "metadata": {
    "collapsed": true
   },
   "outputs": [],
   "source": [
    "from IPython.display import HTML\n",
    "HTML('''<script>code_show=true; function code_toggle() { if (code_show){ $('div.input').hide();} else { $('div.input').show(); } code_show = !code_show} $( document ).ready(code_toggle);</script><form action=\"javascript:code_toggle()\"><input type=\"submit\" value=\"Click here to toggle on/off the raw code.\"></form>''')"
   ]
  },
  {
   "cell_type": "code",
   "execution_count": null,
   "metadata": {
    "collapsed": true
   },
   "outputs": [],
   "source": [
    "# boilerplate imports\n",
    "\n",
    "import numpy as np\n",
    "import matplotlib.pyplot as plt\n",
    "import matplotlib.cm as cm\n",
    "%matplotlib inline\n",
    "\n",
    "import time\n",
    "\n",
    "import matplotlib as mpl\n",
    "\n",
    "import datetime\n",
    "\n",
    "\n",
    "\n",
    "\n"
   ]
  },
  {
   "cell_type": "code",
   "execution_count": null,
   "metadata": {
    "collapsed": true
   },
   "outputs": [],
   "source": [
    "\n",
    "f = open('data/gamelogs.dat')\n",
    "\n",
    "\n",
    "\n",
    "DDStats = {}\n",
    "\n",
    "for line in f:\n",
    "    q = [d.strip(\" \") for d in line.split(';')]\n",
    "    \n",
    "    if q[0] not in DDStats.keys():\n",
    "        DDStats[q[0]] = {}\n",
    "        \n",
    "    if q[1] not in DDStats[q[0]].keys():\n",
    "        DDStats[q[0]][q[1]] = np.zeros(max_day-zero_day)\n",
    "        \n",
    "    for indx in range(0,len(q)-3):\n",
    "        DDStats[q[0]][q[1]][indx] = float(q[indx+2])\n",
    "    \n",
    "\n",
    "\n",
    "f.close()\n",
    "\n",
    "\n",
    "print(DDStats.keys())"
   ]
  },
  {
   "cell_type": "markdown",
   "metadata": {},
   "source": [
    "### Open Questions\n",
    "\n",
    "1. How to treat DL?\n",
    "2. How to treat off days?\n",
    "\n",
    "### Desired Functionality\n",
    "\n",
    "1. By batting order\n",
    "2. By position\n",
    "3. By age\n",
    "4. By opponent?"
   ]
  },
  {
   "cell_type": "code",
   "execution_count": null,
   "metadata": {
    "collapsed": true
   },
   "outputs": [],
   "source": [
    "PAlist = np.zeros([len(np.array(DDStats['PA'].keys())),max_day-zero_day])\n",
    "\n",
    "\n",
    "stat = 'RBI'\n",
    "print(len(np.array(DDStats[stat].keys())) )\n",
    "\n",
    "for indx,player in enumerate(DDStats[stat].keys()):\n",
    "    PAlist[indx] = np.cumsum(DDStats[stat][player])\n",
    "\n",
    "\n",
    "fig = plt.figure()\n",
    "ax = fig.add_axes([0.18,0.22,0.6,0.7])\n",
    "ax2 = fig.add_axes([0.81,0.22,0.02,0.7])\n",
    "\n",
    "    \n",
    "    \n",
    "for perc in range(100,0,-10):\n",
    "    ax.plot(np.percentile(PAlist,perc,axis=0),color=cm.gnuplot(float(perc/100.),1.))\n",
    "    \n",
    "\n",
    "ax.plot(np.cumsum(DDStats[stat]['Whit Merrifield']),color='black')\n",
    "\n",
    "    \n",
    "ax.set_ylabel('RBIs',size=18)\n",
    "ax.set_xlabel('Gameday Number',size=18)\n",
    "    \n",
    "cmap = mpl.cm.gnuplot; norm = mpl.colors.Normalize(vmin=0, vmax=100)\n",
    "cb1 = mpl.colorbar.ColorbarBase(ax2, cmap=cmap,norm=norm)\n",
    "cb1.set_label('Percentile',size=18)\n",
    "\n",
    "\n",
    "\n"
   ]
  }
 ],
 "metadata": {
  "kernelspec": {
   "display_name": "Python [default]",
   "language": "python",
   "name": "python2"
  },
  "language_info": {
   "codemirror_mode": {
    "name": "ipython",
    "version": 2
   },
   "file_extension": ".py",
   "mimetype": "text/x-python",
   "name": "python",
   "nbconvert_exporter": "python",
   "pygments_lexer": "ipython2",
   "version": "2.7.12"
  }
 },
 "nbformat": 4,
 "nbformat_minor": 1
}
